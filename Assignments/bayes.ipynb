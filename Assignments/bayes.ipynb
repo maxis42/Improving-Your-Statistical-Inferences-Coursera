{
 "cells": [
  {
   "cell_type": "code",
   "execution_count": 17,
   "id": "16c869fd-977f-4e4d-b20b-66d88c45cd1c",
   "metadata": {
    "execution": {
     "iopub.execute_input": "2023-03-01T11:07:11.010357Z",
     "iopub.status.busy": "2023-03-01T11:07:11.005345Z",
     "iopub.status.idle": "2023-03-01T11:07:11.173007Z",
     "shell.execute_reply": "2023-03-01T11:07:11.171003Z"
    },
    "tags": []
   },
   "outputs": [
    {
     "data": {
      "image/png": "[encoded data removed]",
      "text/plain": [
       "Plot with title \"Bayes Factor: 1.97\""
      ]
     },
     "metadata": {},
     "output_type": "display_data"
    }
   ],
   "source": [
    "H0 <- 0.5  # Set the point null hypothesis you want to calculate the Bayes Factor for\n",
    "n <- 5  # set total trials\n",
    "x <- 2  # set successes\n",
    "aprior <- 4  # Set the alpha for the Beta distribution for the prior\n",
    "bprior <- 2  # Set the beta for the Beta distribution for the prior\n",
    "\n",
    "alikelihood <- x + 1  # Calculate the alpha for the Beta distribution for the likelihood\n",
    "blikelihood <- n - x + 1  # Calculate the beta for the Beta distribution for the likelihood\n",
    "aposterior <- aprior + alikelihood - 1  # Calculate the alpha for the Beta distribution for the posterior\n",
    "bposterior <- bprior + blikelihood - 1  # Calculate the beta for the Beta distribution for the posterior\n",
    "\n",
    "theta <- seq(0, 1, 0.001)  # create theta range from 0 to 1\n",
    "prior <- dbeta(theta, aprior, bprior)\n",
    "likelihood <- dbeta(theta, alikelihood, blikelihood)\n",
    "posterior <- dbeta(theta, aposterior, bposterior)\n",
    "plot(theta, posterior, ylim=c(0, 15), type=\"l\", lwd=3, xlab=bquote(theta), ylab=\"Density\", las=1)\n",
    "lines(theta, prior, col=\"grey\", lwd=3)\n",
    "lines(theta, likelihood, lty=2, lwd=3, col=\"dodgerblue\")\n",
    "\n",
    "BF10 <- dbeta(H0, aposterior, bposterior) / dbeta(H0, aprior, bprior)\n",
    "\n",
    "points(H0, dbeta(H0, aposterior, bposterior), pch=19)\n",
    "points(H0, dbeta(H0, aprior, bprior), pch=19, col=\"grey\")\n",
    "segments(H0, dbeta(H0, aposterior, bposterior), H0, dbeta(H0, aprior, bprior), lty=2)\n",
    "title(paste('Bayes Factor:', round(BF10, digits=2)))"
   ]
  },
  {
   "cell_type": "code",
   "execution_count": 15,
   "id": "6e7534ca-120c-41f2-bbfc-d223cdad31bb",
   "metadata": {
    "execution": {
     "iopub.execute_input": "2023-02-27T15:48:42.396315Z",
     "iopub.status.busy": "2023-02-27T15:48:42.390300Z",
     "iopub.status.idle": "2023-02-27T15:48:42.640178Z",
     "shell.execute_reply": "2023-02-27T15:48:42.640178Z"
    },
    "tags": []
   },
   "outputs": [
    {
     "data": {
      "text/html": [
       "<table>\n",
       "<thead><tr><th scope=col>method</th><th scope=col>x</th><th scope=col>n</th><th scope=col>shape1</th><th scope=col>shape2</th><th scope=col>mean</th><th scope=col>lower</th><th scope=col>upper</th><th scope=col>sig</th></tr></thead>\n",
       "<tbody>\n",
       "\t<tr><td>bayes    </td><td>0        </td><td>10       </td><td>10       </td><td>20       </td><td>0.3333333</td><td>0        </td><td>0.4790119</td><td>0.05     </td></tr>\n",
       "</tbody>\n",
       "</table>\n"
      ],
      "text/latex": [
       "\\begin{tabular}{r|lllllllll}\n",
       " method & x & n & shape1 & shape2 & mean & lower & upper & sig\\\\\n",
       "\\hline\n",
       "\t bayes     & 0         & 10        & 10        & 20        & 0.3333333 & 0         & 0.4790119 & 0.05     \\\\\n",
       "\\end{tabular}\n"
      ],
      "text/markdown": [
       "\n",
       "| method | x | n | shape1 | shape2 | mean | lower | upper | sig |\n",
       "|---|---|---|---|---|---|---|---|---|\n",
       "| bayes     | 0         | 10        | 10        | 20        | 0.3333333 | 0         | 0.4790119 | 0.05      |\n",
       "\n"
      ],
      "text/plain": [
       "  method x n  shape1 shape2 mean      lower upper     sig \n",
       "1 bayes  0 10 10     20     0.3333333 0     0.4790119 0.05"
      ]
     },
     "metadata": {},
     "output_type": "display_data"
    },
    {
     "data": {
      "text/html": [
       "<table>\n",
       "<thead><tr><th scope=col>method</th><th scope=col>x</th><th scope=col>n</th><th scope=col>shape1</th><th scope=col>shape2</th><th scope=col>mean</th><th scope=col>lower</th><th scope=col>upper</th><th scope=col>sig</th></tr></thead>\n",
       "<tbody>\n",
       "\t<tr><td>bayes    </td><td>0        </td><td>10       </td><td>10       </td><td>20       </td><td>0.3333333</td><td>0        </td><td>0.4790119</td><td>0.05     </td></tr>\n",
       "</tbody>\n",
       "</table>\n"
      ],
      "text/latex": [
       "\\begin{tabular}{r|lllllllll}\n",
       " method & x & n & shape1 & shape2 & mean & lower & upper & sig\\\\\n",
       "\\hline\n",
       "\t bayes     & 0         & 10        & 10        & 20        & 0.3333333 & 0         & 0.4790119 & 0.05     \\\\\n",
       "\\end{tabular}\n"
      ],
      "text/markdown": [
       "\n",
       "| method | x | n | shape1 | shape2 | mean | lower | upper | sig |\n",
       "|---|---|---|---|---|---|---|---|---|\n",
       "| bayes     | 0         | 10        | 10        | 20        | 0.3333333 | 0         | 0.4790119 | 0.05      |\n",
       "\n"
      ],
      "text/plain": [
       "  method x n  shape1 shape2 mean      lower upper     sig \n",
       "1 bayes  0 10 10     20     0.3333333 0     0.4790119 0.05"
      ]
     },
     "metadata": {},
     "output_type": "display_data"
    },
    {
     "data": {
      "image/png": "[encoded data removed]",
      "text/plain": [
       "Plot with title \"Mean posterior: 0.33333 , 95% Credible Interval: 0.18 ; 0.51\""
      ]
     },
     "metadata": {},
     "output_type": "display_data"
    }
   ],
   "source": [
    "n <- 10  # set total trials\n",
    "x <- 0  # set successes\n",
    "aprior <- 10  # Set the alpha for the Beta distribution for the prior\n",
    "bprior <- 10  # Set the beta for the Beta distribution for the prior\n",
    "\n",
    "ymax <- 10  # set max y-axis\n",
    "\n",
    "alikelihood <- x + 1  # Calculate the alpha for the Beta distribution for the likelihood\n",
    "blikelihood <- n - x + 1  # Calculate the beta for the Beta distribution for the likelihood\n",
    "aposterior <- aprior + alikelihood - 1  # Calculate the alpha for the Beta distribution for the posterior\n",
    "bposterior <- bprior + blikelihood - 1  # Calculate the beta for the Beta distribution for the posterior\n",
    "\n",
    "theta <- seq(0, 1, 0.001)  # create theta range from 0 to 1\n",
    "prior <- dbeta(theta, aprior, bprior)  # deterine prior distribution\n",
    "likelihood <- dbeta(theta, alikelihood, blikelihood)  # determine likelihood distribution\n",
    "posterior <- dbeta(theta, aposterior, bposterior)  # determine posterior distribution\n",
    "plot(theta, posterior, ylim=c(0, ymax), type=\"l\", lwd=3,\n",
    "     xlab=bquote(theta), ylab=\"Density\", las=1)  # draw posterior distribution\n",
    "lines(theta, prior, col=\"grey\", lwd=3)  # draw prior distribution\n",
    "lines(theta, likelihood, lty=2, lwd=3, col=\"dodgerblue\")  # draw likelihood distribution\n",
    "LL<-qbeta(.025, aposterior, bposterior)  # calculate lower limit credible interval\n",
    "UL<-qbeta(.975, aposterior, bposterior)  # calculate upper limit credible interval\n",
    "abline(v=aposterior / (aposterior + bposterior))  # draw line mean\n",
    "abline(v=LL, col=\"grey\", lty=3)  # draw line lower limit\n",
    "abline(v=UL, col=\"grey\", lty=3)  # draw line upper limit\n",
    "polygon(c(theta[theta < LL], rev(theta[theta < LL])),\n",
    "        c(posterior[theta < LL], rep(0,sum(theta < LL))),\n",
    "        col=\"lightgrey\", border=NA)\n",
    "polygon(c(theta[theta > UL], rev(theta[theta > UL])),\n",
    "        c(posterior[theta > UL], rep(0,sum(theta > UL))),\n",
    "        col=\"lightgrey\", border=NA)\n",
    "title(paste('Mean posterior:', round((aposterior / (aposterior + bposterior)), digits=5),\n",
    "            \", 95% Credible Interval:\", round(LL, digits=2), \";\", round(UL, digits=2)))\n",
    "\n",
    "if (!require(binom)) {install.packages('binom')}\n",
    "library(binom)\n",
    "\n",
    "binom.bayes(x, n, type=\"central\", prior.shape1=aprior, prior.shape2=bprior)\n",
    "binom.bayes(x, n, type=\"highest\", prior.shape1=aprior, prior.shape2=bprior)"
   ]
  },
  {
   "cell_type": "code",
   "execution_count": null,
   "id": "2117b1c3-dcf8-4a92-ade3-3f78fff7c028",
   "metadata": {},
   "outputs": [],
   "source": []
  },
  {
   "cell_type": "code",
   "execution_count": null,
   "id": "baefba5c-f1f9-46a5-a225-90f3b8af4230",
   "metadata": {},
   "outputs": [],
   "source": []
  }
 ],
 "metadata": {
  "kernelspec": {
   "display_name": "R",
   "language": "R",
   "name": "ir"
  },
  "language_info": {
   "codemirror_mode": "r",
   "file_extension": ".r",
   "mimetype": "text/x-r-source",
   "name": "R",
   "pygments_lexer": "r",
   "version": "3.6.1"
  }
 },
 "nbformat": 4,
 "nbformat_minor": 5
}
