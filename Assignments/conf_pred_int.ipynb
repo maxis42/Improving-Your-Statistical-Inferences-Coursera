{
 "cells": [
  {
   "cell_type": "code",
   "execution_count": 22,
   "id": "8867bb45-dbe5-4ee3-aac9-e6381270906b",
   "metadata": {
    "execution": {
     "iopub.execute_input": "2023-03-11T11:59:00.788344Z",
     "iopub.status.busy": "2023-03-11T11:59:00.783759Z",
     "iopub.status.idle": "2023-03-11T11:59:00.950475Z",
     "shell.execute_reply": "2023-03-11T11:59:00.945463Z"
    },
    "tags": []
   },
   "outputs": [
    {
     "data": {
      "image/png": "[encoded data removed]",
      "text/plain": [
       "plot without title"
      ]
     },
     "metadata": {},
     "output_type": "display_data"
    }
   ],
   "source": [
    "m1 <- 3  # mean group 1\n",
    "m2 <- 5  # mean group 2\n",
    "sd1 <- 4.5  # sd group 1\n",
    "sd2 <- 3.0  # sd group 2\n",
    "n1 <- 50  # sample size group 1\n",
    "n2 <- 50  # sample size group 2\n",
    "\n",
    "x <- rnorm(n=n1, mean=m1, sd=sd1)  # get sample group 1\n",
    "y <- rnorm(n=n2, mean=m2, sd=sd2)  # get sample group 2\n",
    "error1 <- qnorm(0.975) * sd(x) / sqrt(n1)  # get error group 1\n",
    "error2 <- qnorm(0.975) * sd(y) / sqrt(n2)  # get error group 2\n",
    "\n",
    "CI_l_1 <- mean(x) - error1  # calculate confidence interval lower limit group 1\n",
    "CI_u_1 <- mean(x) + error1  # calculate confidence interval upper limit group 1\n",
    "CI_l_2 <- mean(y) - error2  # calculate confidence interval lower limit group 2\n",
    "CI_u_2 <- mean(y) + error2  # calculate confidence interval upper limit group 2\n",
    "\n",
    "se <- sqrt(sd(x)^2 / n1 + sd(y)^2 / n2)  # calc pooled standard error\n",
    "error <- qt(0.975, df=n1+n2-2) * se  # error mean dif\n",
    "mdif <- mean(y) - mean(x)  # mean dif\n",
    "CI_l_d <- mdif - error  # CI lower limit difference\n",
    "CI_u_d <- mdif + error  # CI upper limit difference\n",
    "\n",
    "d = data.frame(labels=c(\"X\", \"Y\", \"Difference\"), \n",
    "               mean=c(mean(x), mean(y), mdif),\n",
    "               lower=c(CI_l_1, CI_l_2, CI_l_d),\n",
    "               upper=c(CI_u_1, CI_u_2, CI_u_d))\n",
    "\n",
    "plot(NA, xlim=c(0.5, 3.5), ylim=c(0, max(d$upper[1:2]+1)), bty=\"l\", xaxt=\"n\",\n",
    "     xlab=\"\",ylab=\"Mean\")\n",
    "points(d$mean[1:2], pch=19)\n",
    "segments(1, d$mean[1], 5, d$mean[1], lty=2)\n",
    "segments(2, d$mean[2], 5, d$mean[2], lty=2)\n",
    "axis(1, 1:3, d$labels)\n",
    "segments(1:2, d$lower[1:2], 1:2, d$upper[1:2])\n",
    "axis(4, seq((d$mean[1] - 3), (d$mean[1] + 5), by=1), seq(-3, 5, by=1), las=1)\n",
    "points(3, d$mean[1] + d$mean[3], pch=19, cex=1.5)\n",
    "segments(3, d$mean[1] + d$lower[3], 3, d$mean[1] + d$upper[3], lwd=2)\n",
    "mtext(\"Difference\", side=4, at=d$mean[1], line=3)\n",
    "segments(1:1, d$upper[1:1], 1:2, d$upper[1:1], lty=3)\n",
    "segments(1:1, d$lower[1:2], 1:2, d$lower[1:2], lty=3)\n",
    "text(3, 1, paste(\"P-value\", round(t.test(x, y, var.equal=TRUE)$p.value, digits=3)),\n",
    "     cex=0.8)"
   ]
  },
  {
   "cell_type": "code",
   "execution_count": 8,
   "id": "828fc050-c481-4b3c-a377-9bc0bbb897ed",
   "metadata": {
    "execution": {
     "iopub.execute_input": "2023-03-11T12:17:13.270152Z",
     "iopub.status.busy": "2023-03-11T12:17:13.269148Z",
     "iopub.status.idle": "2023-03-11T12:17:19.152818Z",
     "shell.execute_reply": "2023-03-11T12:17:19.152818Z"
    },
    "tags": []
   },
   "outputs": [
    {
     "name": "stdout",
     "output_type": "stream",
     "text": [
      "95.027 % of the 95% confidence intervals contained the true mean\n",
      "The observed confidence interval [ 89.19448 ,  99.33544 ]\n",
      "The capture percentage for the plotted study is: 42.111 %"
     ]
    },
    {
     "data": {
      "image/png": "[encoded data removed]",
      "text/plain": [
       "plot without title"
      ]
     },
     "metadata": {
      "image/png": {
       "height": 420,
       "width": 420
      }
     },
     "output_type": "display_data"
    }
   ],
   "source": [
    "# This scripts will simulate a single sample, and calculate the mean\n",
    "# The gold background illustrates the 95% prediction interval (PI),\n",
    "# The orange background illustrates the 95% confidence interval\n",
    "# The black dotted line illustrates the true mean. 95% of the CI should\n",
    "# contain the true mean\n",
    "# Then, a simulation is run. The simulations generates a large number\n",
    "# of additional samples\n",
    "# The simulation returns the number of CI that contain the mean, and\n",
    "# returns the % of means from future studies that fall within the 95%\n",
    "# of the original study\n",
    "# This is known as the capture percentage. It differs from (and is lower\n",
    "# than) the confidence interval \n",
    "set.seed(1000)\n",
    "\n",
    "if (!require(ggplot2)) {install.packages('ggplot2')}\n",
    "library(ggplot2)\n",
    "if (!require(Rcpp)) {install.packages('Rcpp')}\n",
    "library(Rcpp)\n",
    "\n",
    "n = 20  # set sample size\n",
    "nSims <- 100000  # set number of simulations\n",
    "\n",
    "x <- rnorm(n=n, mean=100, sd=15)  # create sample from normal distribution\n",
    "\n",
    "# 95% Confidence Interval\n",
    "CIU <- mean(x) + qt(0.975, df=n-1) * sd(x) * sqrt(1/n)\n",
    "CIL <- mean(x) - qt(0.975, df=n-1) * sd(x) * sqrt(1/n)\n",
    "\n",
    "# 95% Prediction Interval\n",
    "PIU <- mean(x) + qt(0.975, df=n-1) * sd(x) * sqrt(1 + 1/n)\n",
    "PIL <- mean(x) - qt(0.975, df=n-1) * sd(x) * sqrt(1 + 1/n)\n",
    "\n",
    "ggplot(as.data.frame(x), aes(x)) + \n",
    "  geom_rect(aes(xmin=PIL, xmax=PIU, ymin=0, ymax=Inf), fill=\"gold\") + #draw orange CI area\n",
    "  geom_rect(aes(xmin=CIL, xmax=CIU, ymin=0, ymax=Inf), fill=\"#E69F00\") + #draw orange CI area\n",
    "  geom_histogram(colour=\"black\", fill=\"grey\", aes(y=..density..), binwidth=2) +\n",
    "  xlab(\"IQ\") + ylab(\"number of people\")  + ggtitle(\"Data\") + theme_bw(base_size=20) + \n",
    "  theme(panel.grid.major.x = element_blank(), axis.text.y = element_blank(), panel.grid.minor.x = element_blank()) + \n",
    "  geom_vline(xintercept=mean(x), colour=\"black\", linetype=\"dashed\", size=1) + \n",
    "  coord_cartesian(xlim=c(50,150)) + scale_x_continuous(breaks=c(50,60,70,80,90,100,110,120,130,140,150)) +\n",
    "  annotate(\"text\", x = mean(x), y = 0.02, label = paste(\"Mean = \",round(mean(x)),\"\\n\",\"SD = \",round(sd(x)),sep=\"\"), size=6.5)\n",
    "\n",
    "# Simulate Confidence Intervals\n",
    "CIU_sim <- numeric(nSims)\n",
    "CIL_sim <- numeric(nSims)\n",
    "mean_sim <- numeric(nSims)\n",
    "\n",
    "for (i in 1:nSims) {  # for each simulated experiment\n",
    "    x <- rnorm(n=n, mean=100, sd=15)  # create sample from normal distribution\n",
    "    CIU_sim[i] <- mean(x) + qt(0.975, df=n-1) * sd(x) * sqrt(1/n)\n",
    "    CIL_sim[i] <- mean(x) - qt(0.975, df=n-1) * sd(x) * sqrt(1/n)\n",
    "    mean_sim[i] <- mean(x) #store means of each sample\n",
    "}\n",
    "\n",
    "# Save only those simulations where the true value was inside the 95% CI\n",
    "CIU_sim <- CIU_sim[CIU_sim < 100]\n",
    "CIL_sim <- CIL_sim[CIL_sim > 100]\n",
    "\n",
    "cat((100*(1-(length(CIU_sim)/nSims+length(CIL_sim)/nSims))),\"% of the 95% confidence intervals contained the true mean\\n\")\n",
    "\n",
    "# Calculate how many times the observed mean fell within the 95% CI of the original study\n",
    "mean_sim <- mean_sim[(mean_sim > CIL) & (mean_sim < CIU)]\n",
    "cat(\"The observed confidence interval [\", CIL, \", \", CIU, \"]\\n\")\n",
    "cat(\"The capture percentage for the plotted study is:\", 100 * length(mean_sim) / nSims,\"%\")"
   ]
  },
  {
   "cell_type": "code",
   "execution_count": null,
   "id": "1cbec655-0de0-4adc-9a5e-de877947bcdf",
   "metadata": {},
   "outputs": [],
   "source": []
  }
 ],
 "metadata": {
  "kernelspec": {
   "display_name": "R",
   "language": "R",
   "name": "ir"
  },
  "language_info": {
   "codemirror_mode": "r",
   "file_extension": ".r",
   "mimetype": "text/x-r-source",
   "name": "R",
   "pygments_lexer": "r",
   "version": "3.6.1"
  }
 },
 "nbformat": 4,
 "nbformat_minor": 5
}
