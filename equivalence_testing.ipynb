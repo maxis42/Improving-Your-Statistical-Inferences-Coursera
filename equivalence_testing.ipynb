{
 "cells": [
  {
   "cell_type": "code",
   "execution_count": 2,
   "id": "eb659323-9599-44e3-9eb1-31ca67d0163a",
   "metadata": {
    "execution": {
     "iopub.execute_input": "2023-03-12T17:45:02.119014Z",
     "iopub.status.busy": "2023-03-12T17:45:02.054843Z",
     "iopub.status.idle": "2023-03-12T17:45:02.152102Z",
     "shell.execute_reply": "2023-03-12T17:45:02.150096Z"
    },
    "scrolled": true,
    "tags": []
   },
   "outputs": [],
   "source": [
    "# Run the lines below to install and load the TOSTER package\n",
    "# Install TOSTER package if needed\n",
    "if (!require(TOSTER)) {install.packages('TOSTER')}\n",
    "# Load TOSTER package\n",
    "library(TOSTER)"
   ]
  },
  {
   "cell_type": "code",
   "execution_count": 24,
   "id": "77bcac94-3df0-4649-bd4c-e2d2dbe1ab07",
   "metadata": {
    "execution": {
     "iopub.execute_input": "2023-03-12T18:46:26.795569Z",
     "iopub.status.busy": "2023-03-12T18:46:26.794567Z",
     "iopub.status.idle": "2023-03-12T18:46:26.928922Z",
     "shell.execute_reply": "2023-03-12T18:46:26.920916Z"
    },
    "tags": []
   },
   "outputs": [
    {
     "name": "stderr",
     "output_type": "stream",
     "text": [
      "Note: this function is defunct. Please use tsum_TOST instead\n",
      "\n"
     ]
    },
    {
     "name": "stdout",
     "output_type": "stream",
     "text": [
      "TOST results:\n",
      "t-value lower bound: 0.946 \tp-value lower bound: 0.172\n",
      "t-value upper bound: -2.89 \tp-value upper bound: 0.002\n",
      "degrees of freedom : 358.49\n",
      "\n",
      "Equivalence bounds (Cohen's d):\n",
      "low eqbound: -0.2 \n",
      "high eqbound: 0.2\n",
      "\n",
      "Equivalence bounds (raw scores):\n",
      "low eqbound: -0.2564 \n",
      "high eqbound: 0.2564\n",
      "\n",
      "TOST confidence interval:\n",
      "lower bound 90% CI: -0.35\n",
      "upper bound 90% CI:  0.09\n",
      "\n",
      "NHST confidence interval:\n",
      "lower bound 95% CI: -0.393\n",
      "upper bound 95% CI:  0.133\n",
      "\n",
      "Equivalence Test Result:\n",
      "The equivalence test was non-significant, t(358.49) = 0.946, p = 0.172, given equivalence bounds of -0.256 and 0.256 (on a raw scale) and an alpha of 0.05."
     ]
    },
    {
     "name": "stderr",
     "output_type": "stream",
     "text": [
      "\n",
      "\n"
     ]
    },
    {
     "name": "stdout",
     "output_type": "stream",
     "text": [
      "\n",
      "Null Hypothesis Test Result:\n",
      "The null hypothesis test was non-significant, t(358.49) = -0.974, p = 0.331, given an alpha of 0.05."
     ]
    },
    {
     "name": "stderr",
     "output_type": "stream",
     "text": [
      "\n",
      "\n"
     ]
    },
    {
     "name": "stdout",
     "output_type": "stream",
     "text": [
      "\n"
     ]
    },
    {
     "name": "stderr",
     "output_type": "stream",
     "text": [
      "NHST: don't reject null significance hypothesis that the effect is equal to 0 \n",
      "TOST: don't reject null equivalence hypothesis\n",
      "\n"
     ]
    },
    {
     "data": {
      "image/png": "[encoded data removed]",
      "text/plain": [
       "Plot with title \"Equivalence bounds -0.256 and 0.256\n",
       "Mean difference = -0.13 \n",
       " TOST: 90% CI [-0.35;0.09] non-significant \n",
       " NHST: 95% CI [-0.393;0.133] non-significant\""
      ]
     },
     "metadata": {
      "image/png": {
       "height": 420,
       "width": 420
      }
     },
     "output_type": "display_data"
    }
   ],
   "source": [
    "# Question 2 and 3 (replace the zeroes with correct values)\n",
    "# You can type ?TOSTtwo for help with the TOSTtwo function\n",
    "TOSTtwo(m1=4.88, m2=5.01, sd1=1.35, sd2=1.21, n1=180, n2=190,\n",
    "        low_eqbound_d=-0.2, high_eqbound_d=0.2)"
   ]
  },
  {
   "cell_type": "code",
   "execution_count": 14,
   "id": "c5cdc5af-fd55-425c-8204-36e78d5c614b",
   "metadata": {
    "execution": {
     "iopub.execute_input": "2023-03-12T18:05:54.815762Z",
     "iopub.status.busy": "2023-03-12T18:05:54.812757Z",
     "iopub.status.idle": "2023-03-12T18:05:54.859880Z",
     "shell.execute_reply": "2023-03-12T18:05:54.856875Z"
    },
    "tags": []
   },
   "outputs": [
    {
     "name": "stderr",
     "output_type": "stream",
     "text": [
      "Note: this function is defunct. Please use power_t_TOST instead\n",
      "\n"
     ]
    },
    {
     "name": "stdout",
     "output_type": "stream",
     "text": [
      "The equivalence bounds to achieve 90 % power with N = 15 are -1.45 and 1.45 ."
     ]
    },
    {
     "name": "stderr",
     "output_type": "stream",
     "text": [
      "\n",
      "\n"
     ]
    },
    {
     "data": {
      "text/html": [
       "<style>\n",
       ".list-inline {list-style: none; margin:0; padding: 0}\n",
       ".list-inline>li {display: inline-block}\n",
       ".list-inline>li:not(:last-child)::after {content: \"\\00b7\"; padding: 0 .5ex}\n",
       "</style>\n",
       "<ol class=list-inline><li>-1.45007776166124</li><li>1.45007776166124</li></ol>\n"
      ],
      "text/latex": [
       "\\begin{enumerate*}\n",
       "\\item -1.45007776166124\n",
       "\\item 1.45007776166124\n",
       "\\end{enumerate*}\n"
      ],
      "text/markdown": [
       "1. -1.45007776166124\n",
       "2. 1.45007776166124\n",
       "\n",
       "\n"
      ],
      "text/plain": [
       "[1] -1.450078  1.450078"
      ]
     },
     "metadata": {},
     "output_type": "display_data"
    }
   ],
   "source": [
    "# Question 4 (replace the zeroes with correct values)\n",
    "# You can type ?powerTOSTtwo for help with the powerTOSTtwo function\n",
    "powerTOSTtwo(alpha=0.01, N=15, statistical_power=0.9)"
   ]
  },
  {
   "cell_type": "code",
   "execution_count": 25,
   "id": "227fb9cd-8dbd-49dd-848b-275dc773b7d3",
   "metadata": {
    "execution": {
     "iopub.execute_input": "2023-03-12T18:47:39.823496Z",
     "iopub.status.busy": "2023-03-12T18:47:39.822494Z",
     "iopub.status.idle": "2023-03-12T18:47:39.863604Z",
     "shell.execute_reply": "2023-03-12T18:47:39.861598Z"
    },
    "tags": []
   },
   "outputs": [
    {
     "name": "stderr",
     "output_type": "stream",
     "text": [
      "Note: this function is defunct. Please use power_t_TOST instead\n",
      "\n"
     ]
    },
    {
     "name": "stdout",
     "output_type": "stream",
     "text": [
      "The required sample size to achieve 95 % power with equivalence bounds of -0.25 and 25 is 337 per group, or 674 in total."
     ]
    },
    {
     "name": "stderr",
     "output_type": "stream",
     "text": [
      "\n",
      "\n"
     ]
    },
    {
     "data": {
      "text/html": [
       "336.2375379661"
      ],
      "text/latex": [
       "336.2375379661"
      ],
      "text/markdown": [
       "336.2375379661"
      ],
      "text/plain": [
       "[1] 336.2375"
      ]
     },
     "metadata": {},
     "output_type": "display_data"
    }
   ],
   "source": [
    "# Question 5 and 6 (replace the zeroes with correct values)\n",
    "# You can type ?powerTOSTtwo for help with the powerTOSTtwo function\n",
    "powerTOSTtwo(alpha=0.1, statistical_power=0.95, low_eqbound_d=-0.25, high_eqbound_d=025)"
   ]
  },
  {
   "cell_type": "code",
   "execution_count": 18,
   "id": "c1e48e09-88db-483d-a280-1561e4b7389e",
   "metadata": {
    "execution": {
     "iopub.execute_input": "2023-03-12T18:10:23.860388Z",
     "iopub.status.busy": "2023-03-12T18:10:23.858345Z",
     "iopub.status.idle": "2023-03-12T18:10:23.969640Z",
     "shell.execute_reply": "2023-03-12T18:10:23.966635Z"
    },
    "tags": []
   },
   "outputs": [
    {
     "name": "stdout",
     "output_type": "stream",
     "text": [
      "TOST results:\n",
      "Z-value lower bound: 53.33 \tp-value lower bound: 0.000\n",
      "Z-value upper bound: -13.33 \tp-value upper bound: 0.00000000000000000000000000000000000000007\n",
      "\n",
      "Equivalence bounds (Cohen's d):\n",
      "low eqbound: -0.1 \n",
      "high eqbound: 0.1\n",
      "\n",
      "TOST confidence interval:\n",
      "lower bound 98% CI: 0.053\n",
      "upper bound 98% CI:  0.067\n",
      "\n",
      "NHST confidence interval:\n",
      "lower bound 99% CI: 0.052\n",
      "upper bound 99% CI:  0.068\n",
      "\n",
      "Equivalence Test Result:\n",
      "The equivalence test was significant, Z = -13.333, p = 0.0000000000000000000000000000000000000000741, given equivalence bounds of -0.100 and 0.100 and an alpha of 0.01."
     ]
    },
    {
     "name": "stderr",
     "output_type": "stream",
     "text": [
      "\n",
      "\n"
     ]
    },
    {
     "name": "stdout",
     "output_type": "stream",
     "text": [
      "\n",
      "Null Hypothesis Test Result:\n",
      "The null hypothesis test was significant, Z = 20.000, p = 0.0000000000000000000000000000000000000000000000000000000000000000000000000000000000000000551, given an alpha of 0.01."
     ]
    },
    {
     "name": "stderr",
     "output_type": "stream",
     "text": [
      "\n",
      "\n"
     ]
    },
    {
     "name": "stdout",
     "output_type": "stream",
     "text": [
      "\n"
     ]
    },
    {
     "name": "stderr",
     "output_type": "stream",
     "text": [
      "NHST: reject null significance hypothesis that the effect is equal to 0 \n",
      "TOST: reject null equivalence hypothesis\n",
      "\n"
     ]
    },
    {
     "data": {
      "image/png": "[encoded data removed]",
      "text/plain": [
       "Plot with title \"Equivalence bounds -0.1 and 0.1\n",
       "Effect size = 0.06 \n",
       " TOST: 98% CI [0.053;0.067] significant \n",
       " NHST: 99% CI [0.052;0.068] significant\""
      ]
     },
     "metadata": {
      "image/png": {
       "height": 420,
       "width": 420
      }
     },
     "output_type": "display_data"
    }
   ],
   "source": [
    "# Question 7 (replace the zeroes with correct values)\n",
    "# You can type ?TOSTmeta for help with the TOSTmeta function\n",
    "TOSTmeta(alpha=0.01, ES=0.06, se=0.003, low_eqbound_d=-0.1, high_eqbound_d=0.1)"
   ]
  },
  {
   "cell_type": "code",
   "execution_count": 19,
   "id": "9fb960f3-9ea1-48a7-a815-091e343c88c8",
   "metadata": {
    "execution": {
     "iopub.execute_input": "2023-03-12T18:14:19.040369Z",
     "iopub.status.busy": "2023-03-12T18:14:19.038366Z",
     "iopub.status.idle": "2023-03-12T18:14:19.079472Z",
     "shell.execute_reply": "2023-03-12T18:14:19.077464Z"
    }
   },
   "outputs": [
    {
     "name": "stdout",
     "output_type": "stream",
     "text": [
      "The equivalence bounds to achieve 50 % power with N = 71 are -0.27 and 0.27 ."
     ]
    },
    {
     "name": "stderr",
     "output_type": "stream",
     "text": [
      "\n",
      "\n"
     ]
    },
    {
     "data": {
      "text/html": [
       "<style>\n",
       ".list-inline {list-style: none; margin:0; padding: 0}\n",
       ".list-inline>li {display: inline-block}\n",
       ".list-inline>li:not(:last-child)::after {content: \"\\00b7\"; padding: 0 .5ex}\n",
       "</style>\n",
       "<ol class=list-inline><li>-0.274072408130483</li><li>0.274072408130483</li></ol>\n"
      ],
      "text/latex": [
       "\\begin{enumerate*}\n",
       "\\item -0.274072408130483\n",
       "\\item 0.274072408130483\n",
       "\\end{enumerate*}\n"
      ],
      "text/markdown": [
       "1. -0.274072408130483\n",
       "2. 0.274072408130483\n",
       "\n",
       "\n"
      ],
      "text/plain": [
       "[1] -0.2740724  0.2740724"
      ]
     },
     "metadata": {},
     "output_type": "display_data"
    }
   ],
   "source": [
    "# Question 8 (replace the zeroes with correct values)\n",
    "# You can type ?powerTOSTr for help with the powerTOSTr function\n",
    "powerTOSTr(alpha=0.05, N=71, statistical_power=0.5)"
   ]
  },
  {
   "cell_type": "code",
   "execution_count": 22,
   "id": "7e5f3a5d-190c-4b67-9993-982692334037",
   "metadata": {
    "execution": {
     "iopub.execute_input": "2023-03-12T18:17:21.220561Z",
     "iopub.status.busy": "2023-03-12T18:17:21.217552Z",
     "iopub.status.idle": "2023-03-12T18:17:21.322834Z",
     "shell.execute_reply": "2023-03-12T18:17:21.319080Z"
    },
    "tags": []
   },
   "outputs": [
    {
     "name": "stdout",
     "output_type": "stream",
     "text": [
      "TOST results:\n",
      "p-value lower bound: 0.015\n",
      "p-value upper bound: 0.120\n",
      "\n",
      "Equivalence bounds (r):\n",
      "low eqbound: -0.2 \n",
      "high eqbound: 0.2\n",
      "\n",
      "TOST confidence interval:\n",
      "lower bound 90% CI: -0.138\n",
      "upper bound 90% CI:  0.254\n",
      "\n",
      "NHST confidence interval:\n",
      "lower bound 95% CI: -0.176\n",
      "upper bound 95% CI:  0.289\n",
      "\n",
      "Equivalence Test Result:\n",
      "The equivalence test was non-significant, p = 0.120, given equivalence bounds of -0.200 and 0.200 and an alpha of 0.05."
     ]
    },
    {
     "name": "stderr",
     "output_type": "stream",
     "text": [
      "\n",
      "\n"
     ]
    },
    {
     "name": "stdout",
     "output_type": "stream",
     "text": [
      "\n",
      "Null Hypothesis Test Result:\n",
      "The null hypothesis test was non-significant, p = 0.619, given an alpha of 0.05."
     ]
    },
    {
     "name": "stderr",
     "output_type": "stream",
     "text": [
      "\n",
      "\n"
     ]
    },
    {
     "name": "stdout",
     "output_type": "stream",
     "text": [
      "\n"
     ]
    },
    {
     "name": "stderr",
     "output_type": "stream",
     "text": [
      "NHST: don't reject null significance hypothesis that the correlation is equal to 0 \n",
      "TOST: don't reject null equivalence hypothesis\n",
      "\n"
     ]
    },
    {
     "data": {
      "image/png": "[encoded data removed]",
      "text/plain": [
       "Plot with title \"Equivalence bounds -0.2 and 0.2\n",
       "r = 0.06 \n",
       " TOST: 90% CI [-0.138;0.254] non-significant \n",
       " NHST: 95% CI [-0.176;0.289] non-significant\""
      ]
     },
     "metadata": {
      "image/png": {
       "height": 420,
       "width": 420
      }
     },
     "output_type": "display_data"
    }
   ],
   "source": [
    "# Question 9 (replace the zeroes with correct values)\n",
    "# You can type ?TOSTr for help with the TOSTr function\n",
    "TOSTr(alpha=0.05, n=71, r=0.06, low_eqbound_r=-0.2, high_eqbound_r=0.2)"
   ]
  },
  {
   "cell_type": "code",
   "execution_count": null,
   "id": "878cba6e-1cf0-41b9-9edc-808d3c341f2e",
   "metadata": {},
   "outputs": [],
   "source": []
  }
 ],
 "metadata": {
  "kernelspec": {
   "display_name": "R",
   "language": "R",
   "name": "ir"
  },
  "language_info": {
   "codemirror_mode": "r",
   "file_extension": ".r",
   "mimetype": "text/x-r-source",
   "name": "R",
   "pygments_lexer": "r",
   "version": "4.1.3"
  }
 },
 "nbformat": 4,
 "nbformat_minor": 5
}
