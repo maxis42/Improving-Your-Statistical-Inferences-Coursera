{
 "cells": [
  {
   "cell_type": "code",
   "execution_count": 1,
   "id": "90145b76-57f0-4ba1-8f14-a8c5c8c0c849",
   "metadata": {
    "execution": {
     "iopub.execute_input": "2023-02-25T15:37:43.927512Z",
     "iopub.status.busy": "2023-02-25T15:37:43.923502Z",
     "iopub.status.idle": "2023-02-25T15:37:43.976647Z",
     "shell.execute_reply": "2023-02-25T15:37:43.971629Z"
    },
    "tags": []
   },
   "outputs": [
    {
     "name": "stdout",
     "output_type": "stream",
     "text": [
      "[1] \"hello world\"\n"
     ]
    }
   ],
   "source": [
    "print(\"hello world\")"
   ]
  },
  {
   "cell_type": "code",
   "execution_count": 2,
   "id": "1663a6a9-55ac-4d1a-a0b4-0c1a2ed73a5c",
   "metadata": {
    "execution": {
     "iopub.execute_input": "2023-02-25T15:37:44.759556Z",
     "iopub.status.busy": "2023-02-25T15:37:44.718450Z",
     "iopub.status.idle": "2023-02-25T15:37:44.864340Z",
     "shell.execute_reply": "2023-02-25T15:37:44.864340Z"
    }
   },
   "outputs": [
    {
     "name": "stderr",
     "output_type": "stream",
     "text": [
      "Loading required package: pwr\n",
      "Warning message:\n",
      "\"package 'pwr' was built under R version 3.6.3\""
     ]
    }
   ],
   "source": [
    "# Load pwr package to easily calculate the statistical power\n",
    "if (!require(pwr)) install.packages('pwr', repos='http://cran.us.r-project.org')\n",
    "library(pwr)"
   ]
  },
  {
   "cell_type": "code",
   "execution_count": 3,
   "id": "1b0473f8-fe57-4b88-b646-ac240e9daea3",
   "metadata": {
    "execution": {
     "iopub.execute_input": "2023-02-25T15:37:48.992862Z",
     "iopub.status.busy": "2023-02-25T15:37:48.991859Z",
     "iopub.status.idle": "2023-02-25T15:37:49.028960Z",
     "shell.execute_reply": "2023-02-25T15:37:49.023946Z"
    }
   },
   "outputs": [],
   "source": [
    "# Disable scientific notation (1.05e10)\n",
    "options(scipen=999)"
   ]
  },
  {
   "cell_type": "code",
   "execution_count": 4,
   "id": "6e79799c-6ed0-4834-ae5f-c67e0e3014af",
   "metadata": {
    "execution": {
     "iopub.execute_input": "2023-02-25T15:37:49.711889Z",
     "iopub.status.busy": "2023-02-25T15:37:49.710885Z",
     "iopub.status.idle": "2023-02-25T15:37:49.740965Z",
     "shell.execute_reply": "2023-02-25T15:37:49.735953Z"
    }
   },
   "outputs": [],
   "source": [
    "# Set number of simulations\n",
    "nSims <- 10^5  # number of simulated experiments"
   ]
  },
  {
   "cell_type": "code",
   "execution_count": 81,
   "id": "e358972e-aee9-44f8-bc2a-4207944733cd",
   "metadata": {
    "execution": {
     "iopub.execute_input": "2023-02-25T16:12:41.243776Z",
     "iopub.status.busy": "2023-02-25T16:12:41.242771Z",
     "iopub.status.idle": "2023-02-25T16:12:41.276863Z",
     "shell.execute_reply": "2023-02-25T16:12:41.272850Z"
    },
    "tags": []
   },
   "outputs": [],
   "source": [
    "M <- 106  # Mean IQ score in the sample (will be compared with 100 in a one-sample t-test)\n",
    "n <- 20  # set sample size\n",
    "SD <- 15  # SD of the simulated data\n",
    "# With a mean difference of 6, and SD of 15, and a sample size of 26, the test has 50% power)"
   ]
  },
  {
   "cell_type": "code",
   "execution_count": 82,
   "id": "1f651ee4-06c4-4dc6-8c29-32d9755d6df3",
   "metadata": {
    "execution": {
     "iopub.execute_input": "2023-02-25T16:12:41.474013Z",
     "iopub.status.busy": "2023-02-25T16:12:41.470002Z",
     "iopub.status.idle": "2023-02-25T16:12:48.615005Z",
     "shell.execute_reply": "2023-02-25T16:12:48.615005Z"
    },
    "tags": []
   },
   "outputs": [],
   "source": [
    "# Run simulation\n",
    "p <- numeric(nSims)  # set up empty variable to store all simulated p-values\n",
    "\n",
    "for (i in 1:nSims) {  # for each simulated experiment\n",
    "  x <- rnorm(n=n, mean=M, sd=SD)  # Simulate data with specified mean, standard deviation, and sample size\n",
    "  z <- t.test(x, mu=100)  # perform the t-test against mu (set to value you want to test against)\n",
    "  p[i] <- z$p.value  # get the p-value and store it\n",
    "}"
   ]
  },
  {
   "cell_type": "code",
   "execution_count": 83,
   "id": "4302ba60-6a32-4688-bd91-b65e2bc288ca",
   "metadata": {
    "execution": {
     "iopub.execute_input": "2023-02-25T16:12:48.633760Z",
     "iopub.status.busy": "2023-02-25T16:12:48.632756Z",
     "iopub.status.idle": "2023-02-25T16:12:48.690313Z",
     "shell.execute_reply": "2023-02-25T16:12:48.685297Z"
    },
    "tags": []
   },
   "outputs": [
    {
     "data": {
      "text/html": [
       "0.39367"
      ],
      "text/latex": [
       "0.39367"
      ],
      "text/markdown": [
       "0.39367"
      ],
      "text/plain": [
       "[1] 0.39367"
      ]
     },
     "metadata": {},
     "output_type": "display_data"
    }
   ],
   "source": [
    "# Check power by summing significant p-values and dividing by number of simulations\n",
    "(sum(p < 0.05) / nSims)  # power"
   ]
  },
  {
   "cell_type": "code",
   "execution_count": 84,
   "id": "36f6b632-c02b-45c3-a226-baf17675eaa3",
   "metadata": {
    "execution": {
     "iopub.execute_input": "2023-02-25T16:12:48.699335Z",
     "iopub.status.busy": "2023-02-25T16:12:48.696329Z",
     "iopub.status.idle": "2023-02-25T16:12:48.733746Z",
     "shell.execute_reply": "2023-02-25T16:12:48.733746Z"
    },
    "tags": []
   },
   "outputs": [
    {
     "name": "stdout",
     "output_type": "stream",
     "text": [
      "[1] 0.3969938\n"
     ]
    }
   ],
   "source": [
    "# Calculate power formally by power analysis\n",
    "# determines M when power > 0. When power = 0, will set  M = 100.\n",
    "power <- pwr.t.test(\n",
    "    n=n, d=(M - 100) / SD, sig.level=0.05,\n",
    "    type=\"one.sample\", alternative=\"two.sided\"\n",
    ")$power\n",
    "print(power)"
   ]
  },
  {
   "cell_type": "code",
   "execution_count": 85,
   "id": "2e6ea34f-f00d-412b-ba0a-bf09bf3c7d31",
   "metadata": {
    "execution": {
     "iopub.execute_input": "2023-02-25T16:12:48.752905Z",
     "iopub.status.busy": "2023-02-25T16:12:48.749895Z",
     "iopub.status.idle": "2023-02-25T16:12:48.869100Z",
     "shell.execute_reply": "2023-02-25T16:12:48.869100Z"
    },
    "tags": []
   },
   "outputs": [
    {
     "data": {
      "image/png": "[encoded data removed]",
      "text/plain": [
       "Plot with title \"P-value Distribution with 39.7 % Power\""
      ]
     },
     "metadata": {},
     "output_type": "display_data"
    }
   ],
   "source": [
    "# Plot figure\n",
    "bars <- 100\n",
    "op <- par(mar=c(5, 7, 4, 4))  # change white-space around graph\n",
    "hist(p, breaks=bars, xlab=\"P-values\", ylab=\"number of p-values\\n\", axes=FALSE,\n",
    "     main=paste(\"P-value Distribution with\", round(power*100, digits=1), \"% Power\"),\n",
    "     col=\"grey\", xlim=c(0, 0.05), ylim=c(0, 10^4))\n",
    "axis(side=1, at=seq(0, 1, 0.1), labels=seq(0, 1, 0.1))\n",
    "axis(side=2, at=seq(0, nSims, nSims/4), labels=seq(0, nSims, nSims/4), las=2)\n",
    "abline(h=nSims/bars, col=\"red\", lty=3)"
   ]
  },
  {
   "cell_type": "code",
   "execution_count": null,
   "id": "f47a26da-2b03-48d2-98fe-b43a2bdf9baa",
   "metadata": {},
   "outputs": [],
   "source": []
  },
  {
   "cell_type": "code",
   "execution_count": null,
   "id": "e131ac23-4e8c-45de-a444-0e8218b368a9",
   "metadata": {},
   "outputs": [],
   "source": []
  },
  {
   "cell_type": "code",
   "execution_count": null,
   "id": "4bfa6dda-60c8-439e-9c93-ea27651ae576",
   "metadata": {},
   "outputs": [],
   "source": []
  },
  {
   "cell_type": "code",
   "execution_count": null,
   "id": "044cf74c-0318-4b1b-b204-d86b3ac0a73f",
   "metadata": {},
   "outputs": [],
   "source": []
  },
  {
   "cell_type": "code",
   "execution_count": null,
   "id": "b8a184fa-8d93-41b1-b535-b8054cd595ca",
   "metadata": {},
   "outputs": [],
   "source": []
  },
  {
   "cell_type": "code",
   "execution_count": null,
   "id": "98b86d4a-d7e8-4a4a-86ab-eabd6fe723c0",
   "metadata": {},
   "outputs": [],
   "source": []
  }
 ],
 "metadata": {
  "kernelspec": {
   "display_name": "R",
   "language": "R",
   "name": "ir"
  },
  "language_info": {
   "codemirror_mode": "r",
   "file_extension": ".r",
   "mimetype": "text/x-r-source",
   "name": "R",
   "pygments_lexer": "r",
   "version": "3.6.1"
  }
 },
 "nbformat": 4,
 "nbformat_minor": 5
}
