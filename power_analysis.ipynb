{
 "cells": [
  {
   "cell_type": "code",
   "execution_count": 56,
   "id": "33741a68-1b24-41a6-be47-daf14baf09c8",
   "metadata": {
    "execution": {
     "iopub.execute_input": "2023-03-12T09:55:12.006004Z",
     "iopub.status.busy": "2023-03-12T09:55:12.002927Z",
     "iopub.status.idle": "2023-03-12T09:55:12.322278Z",
     "shell.execute_reply": "2023-03-12T09:55:12.322278Z"
    },
    "tags": []
   },
   "outputs": [
    {
     "data": {
      "image/png": "[encoded data removed]",
      "text/plain": [
       "plot without title"
      ]
     },
     "metadata": {
      "image/png": {
       "height": 420,
       "width": 420
      }
     },
     "output_type": "display_data"
    }
   ],
   "source": [
    "# load or install ggplot package\n",
    "if (!require(ggplot2)) {install.packages('ggplot2')}\n",
    "library(ggplot2)\n",
    "\n",
    "# Simulate one group\n",
    "n = 1000  # set sample size\n",
    "x <- rnorm(n=n, mean=100, sd=15)  # create sample from normal distribution\n",
    "\n",
    "\n",
    "# plot data\n",
    "ggplot(as.data.frame(x), aes(x))  + \n",
    "  geom_histogram(colour=\"black\", fill=\"grey\", aes(y=..density..), binwidth=2) +\n",
    "  stat_function(fun=dnorm, args=c(mean=100,sd=15), size=1, color=\"red\", lty=2) +\n",
    "  #  geom_density(fill=NA, colour=\"black\", size = 1) +\n",
    "  xlab(\"IQ\") + ylab(\"number of people\")  + ggtitle(\"Data\") + theme_bw(base_size=20) + \n",
    "  theme(panel.grid.major.x = element_blank(), axis.text.y = element_blank(), panel.grid.minor.x = element_blank()) + \n",
    "  geom_vline(xintercept=mean(x), colour=\"gray20\", linetype=\"dashed\") + \n",
    "  coord_cartesian(xlim=c(50,150)) + scale_x_continuous(breaks=c(50,60,70,80,90,100,110,120,130,140,150)) +\n",
    "  annotate(\"text\", x = mean(x), y = 0.02, label = paste(\"Mean = \",round(mean(x)),\"\\n\",\"SD = \",round(sd(x)),sep=\"\"), size=8)"
   ]
  },
  {
   "cell_type": "code",
   "execution_count": 6,
   "id": "1efa67e7-7ef6-41cd-b1c4-ac089c393bef",
   "metadata": {
    "execution": {
     "iopub.execute_input": "2023-03-12T10:19:19.614449Z",
     "iopub.status.busy": "2023-03-12T10:19:19.612441Z",
     "iopub.status.idle": "2023-03-12T10:19:19.784899Z",
     "shell.execute_reply": "2023-03-12T10:19:19.777882Z"
    },
    "tags": []
   },
   "outputs": [
    {
     "name": "stdout",
     "output_type": "stream",
     "text": [
      ":)     p = 0.002418693 \n",
      ":D     p = 0.00001611835 \n",
      ":D     p = 0.00001204964 \n",
      ":D     p = 0.000002974052 \n",
      ":)     p = 0.006545022 \n",
      "(^.^)  p = 0.01113611 \n",
      ":)     p = 0.007928209 \n",
      ":)     p = 0.001600601 \n",
      ":)     p = 0.002477175 \n",
      ":D     p = 0.0005500941 \n",
      ":D     p = 0.000003331524 \n",
      ":D     p = 0.000004776256 \n",
      ":D     p = 0.0000003702069 \n",
      ":D     p = 0.000002447367 \n",
      ":D     p = 0.0001251394 \n",
      ":D     p = 0.00002930796 \n",
      ":)     p = 0.002114959 \n",
      ":)     p = 0.00104222 \n",
      ":D     p = 0.0002565836 \n",
      ":)     p = 0.002576423 \n",
      ":)     p = 0.002718642 \n",
      "(^.^)  p = 0.02198769 \n",
      ":D     p = 0.00005248319 \n",
      ":D     p = 0.0002351887 \n",
      ":D     p = 0.00001372416 \n",
      ":D     p = 0.0000000005391487 \n",
      ":D     p = 0.00006689143 \n",
      ":D     p = 0.000001818115 \n",
      ":)     p = 0.005176825 \n",
      ":D     p = 0.000006080335 \n",
      ":(     p = 0.2357974 \n",
      ":D     p = 0.0001497959 \n",
      ":D     p = 0.000004052292 \n",
      ":D     p = 0.00004053284 \n",
      ":)     p = 0.005196131 \n",
      ":D     p = 0.000195724 \n",
      ":D     p = 0.0000008139909 \n",
      ":D     p = 0.0004561253 \n",
      ":D     p = 0.0001138686 \n",
      ":D     p = 0.0003491259 \n",
      ":)     p = 0.001091355 \n",
      ":)     p = 0.002536404 \n",
      ":)     p = 0.001173944 \n",
      "(^.^)  p = 0.01559945 \n",
      ":D     p = 0.0003579199 \n",
      ":D     p = 0.00000188062 \n",
      ":D     p = 0.0001378419 \n",
      ":D     p = 0.00003836598 \n",
      ":D     p = 0.0000001500361 \n",
      "(^.^)  p = 0.01514972 \n",
      ":D     p = 0.0004675316 \n",
      ":D     p = 0.000001053611 \n",
      ":)     p = 0.00213113 \n",
      "(._.)  p = 0.0593896 \n",
      ":D     p = 0.000164263 \n",
      ":D     p = 0.0000007222612 \n",
      ":D     p = 0.00002512575 \n",
      ":D     p = 0.000001778176 \n",
      "(._.)  p = 0.06879225 \n",
      ":)     p = 0.007032763 \n",
      ":D     p = 0.00007643431 \n",
      ":D     p = 0.00008427667 \n",
      ":D     p = 0.000000005292138 \n",
      ":)     p = 0.00158976 \n",
      ":)     p = 0.001189973 \n",
      ":D     p = 0.0000160615 \n",
      ":D     p = 0.00004206662 \n",
      ":D     p = 0.00001618586 \n",
      ":)     p = 0.005929231 \n",
      "(._.)  p = 0.0854186 \n",
      ":D     p = 0.000002291595 \n",
      ":D     p = 0.0000279935 \n",
      "(^.^)  p = 0.01720864 \n",
      ":D     p = 0.000000005815892 \n",
      "(._.)  p = 0.08583894 \n",
      ":D     p = 0.00006440824 \n",
      ":)     p = 0.001585986 \n",
      "(^.^)  p = 0.01236125 \n",
      ":D     p = 0.0000003228887 \n",
      ":D     p = 0.00001877035 \n",
      ":D     p = 0.0001198948 \n",
      ":D     p = 0.00001392463 \n",
      ":D     p = 0.0004408706 \n",
      ":D     p = 0.000006210022 \n",
      ":D     p = 0.0002291247 \n",
      ":)     p = 0.002657124 \n",
      ":)     p = 0.001616191 \n",
      "(^.^)  p = 0.01397874 \n",
      ":)     p = 0.001463235 \n",
      ":D     p = 0.0002499429 \n",
      ":D     p = 0.00006247238 \n",
      ":D     p = 0.00002415047 \n",
      "(._.)  p = 0.07385376 \n",
      ":D     p = 0.00003284503 \n",
      ":D     p = 0.00004292934 \n",
      ":D     p = 0.0002283474 \n",
      ":D     p = 0.00000916351 \n",
      "(^.^)  p = 0.01991524 \n",
      ":)     p = 0.002526418 \n",
      "(^.^)  p = 0.04048779 \n"
     ]
    },
    {
     "data": {
      "image/png": "[encoded data removed]",
      "text/plain": [
       "Plot with title \"Histogram of p-values\""
      ]
     },
     "metadata": {
      "image/png": {
       "height": 420,
       "width": 420
      }
     },
     "output_type": "display_data"
    }
   ],
   "source": [
    "# to get emoticons for each test, set wait to 1 and showfaces to 1. \n",
    "# When running large number of simulations, se wait to 0 and showfaces to 0.\n",
    "options(scipen=20)  # disable scientific notation for numbers\n",
    "waitx <- 0.5  # To see a small wait between individual trials, set a wait time to e.g., 0.5 \n",
    "showfaces <- 1  # Set to 0 if you do not want the faces, set to 1 if you want to see the faces\n",
    "\n",
    "nSims <- 100  # number of simulated experiments (for large numbers, set wait to 0 and showfaces to 0)\n",
    "n <- 164  # sample size in each group\n",
    "\n",
    "# set up some variables\n",
    "p <- numeric(nSims) \n",
    "\n",
    "for (i in 1:nSims) {  # for each simulated experiment\n",
    "    x <- rnorm(n=n, mean=100, sd=15)  # produce N simulated participants\n",
    "    y <- rnorm(n=n, mean=106, sd=15)  # produce N simulated participants\n",
    "    z <- t.test(x, y)  # perform the t-test\n",
    "    p[i] <- z$p.value  # get the p-value and store it\n",
    "    if (z$p.value < 0.001 & showfaces == 1) {cat(\":D     p =\", z$p.value, \"\\n\")}  \n",
    "    else if (0.001 <= z$p.value & z$p.value < 0.01 & showfaces == 1) {cat(\":)     p =\", z$p.value, \"\\n\")}\n",
    "    else if (0.01 <= z$p.value & z$p.value < 0.05 & showfaces == 1) {cat(\"(^.^)  p =\", z$p.value, \"\\n\")}\n",
    "    else if (0.05 <= z$p.value & z$p.value < 0.10 & showfaces == 1) {cat(\"(._.)  p =\", z$p.value, \"\\n\")}\n",
    "    else if (z$p.value > 0.10 & showfaces == 1) {cat(\":(     p =\", z$p.value, \"\\n\")}\n",
    "    # Sys.sleep(waitx)\n",
    "}\n",
    "\n",
    "# now plot histograms of p-values, t-values, d, observed power\n",
    "hist(p, main=\"Histogram of p-values\", xlab=(\"Observed p-value\"), breaks=20)"
   ]
  },
  {
   "cell_type": "code",
   "execution_count": null,
   "id": "fba23661-30f0-4ea8-a817-d1b0f046014f",
   "metadata": {},
   "outputs": [],
   "source": []
  }
 ],
 "metadata": {
  "kernelspec": {
   "display_name": "R",
   "language": "R",
   "name": "ir"
  },
  "language_info": {
   "codemirror_mode": "r",
   "file_extension": ".r",
   "mimetype": "text/x-r-source",
   "name": "R",
   "pygments_lexer": "r",
   "version": "4.1.3"
  }
 },
 "nbformat": 4,
 "nbformat_minor": 5
}
